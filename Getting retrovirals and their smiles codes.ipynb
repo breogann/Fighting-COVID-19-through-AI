{
 "cells": [
  {
   "cell_type": "markdown",
   "metadata": {},
   "source": [
    "# Getting smiles codes 🙂"
   ]
  },
  {
   "cell_type": "markdown",
   "metadata": {},
   "source": [
    "1. Obtener lista de antivirales con scrapeo de BD\n",
    "2. Crear una columna de SMILES de esos antivirales\n",
    "3. Pasar la columna de SMILES a la función de maic con selenium para obtener la afinidad\n",
    "4. Crear una columna con esos valores"
   ]
  },
  {
   "cell_type": "code",
   "execution_count": 1,
   "metadata": {},
   "outputs": [],
   "source": [
    "import pubchempy as pcp\n",
    "import pandas as pd\n",
    "import re\n",
    "import requests\n",
    "from bs4 import BeautifulSoup"
   ]
  },
  {
   "cell_type": "code",
   "execution_count": 2,
   "metadata": {},
   "outputs": [],
   "source": [
    "def getSmilesByCID(cid):\n",
    "    c = pcp.Compound.from_cid(cid)\n",
    "    return c.canonical_smiles\n",
    "\n",
    "def getSmilesByName(name):\n",
    "    for compound in pcp.get_compounds(name, 'name'):\n",
    "        return compound.canonical_smiles"
   ]
  },
  {
   "cell_type": "code",
   "execution_count": 4,
   "metadata": {},
   "outputs": [],
   "source": [
    "page_number = 1\n",
    "\n",
    "nombres = []\n",
    "codigos = []\n",
    "\n",
    "while page_number < 25:\n",
    "    \n",
    "    page_number += 1\n",
    "    \n",
    "    url = \"https://www.drugbank.ca/unearth/q?approved=1&c=_score&ca=0&d=down&eu=0&page={}&query=antiviral&searcher=drugs&us=0\".format(page_number)\n",
    "    data = requests.get(url).text\n",
    "    soup = BeautifulSoup(data, 'html.parser')\n",
    "    hits = soup.find_all(\"h2\",{\"class\":\"hit-link\"})\n",
    "    \n",
    "    for i in hits:\n",
    "        #Crear la lista con sólo los nombres\n",
    "        match = re.findall(r'DB\\d{5}..(.*)</a></h2>', str(i))\n",
    "        nombres.append(match)\n",
    "        #Crear la lista con sólo los códigos\n",
    "        db_code = re.findall(r'DB\\d{5}', str(i))\n",
    "        codigos.append(db_code)\n"
   ]
  },
  {
   "cell_type": "code",
   "execution_count": 5,
   "metadata": {},
   "outputs": [
    {
     "name": "stdout",
     "output_type": "stream",
     "text": [
      "81\n",
      "81\n"
     ]
    }
   ],
   "source": [
    "print(len(nombres))\n",
    "print(len(codigos))"
   ]
  },
  {
   "cell_type": "code",
   "execution_count": 6,
   "metadata": {},
   "outputs": [
    {
     "data": {
      "text/html": [
       "<div>\n",
       "<style scoped>\n",
       "    .dataframe tbody tr th:only-of-type {\n",
       "        vertical-align: middle;\n",
       "    }\n",
       "\n",
       "    .dataframe tbody tr th {\n",
       "        vertical-align: top;\n",
       "    }\n",
       "\n",
       "    .dataframe thead th {\n",
       "        text-align: right;\n",
       "    }\n",
       "</style>\n",
       "<table border=\"1\" class=\"dataframe\">\n",
       "  <thead>\n",
       "    <tr style=\"text-align: right;\">\n",
       "      <th></th>\n",
       "      <th>0</th>\n",
       "      <th>1</th>\n",
       "    </tr>\n",
       "  </thead>\n",
       "  <tbody>\n",
       "    <tr>\n",
       "      <th>0</th>\n",
       "      <td>[Emtricitabine]</td>\n",
       "      <td>[DB00879]</td>\n",
       "    </tr>\n",
       "    <tr>\n",
       "      <th>1</th>\n",
       "      <td>[Zidovudine]</td>\n",
       "      <td>[DB00495]</td>\n",
       "    </tr>\n",
       "    <tr>\n",
       "      <th>2</th>\n",
       "      <td>[Darunavir]</td>\n",
       "      <td>[DB01264]</td>\n",
       "    </tr>\n",
       "    <tr>\n",
       "      <th>3</th>\n",
       "      <td>[Nevirapine]</td>\n",
       "      <td>[DB00238]</td>\n",
       "    </tr>\n",
       "    <tr>\n",
       "      <th>4</th>\n",
       "      <td>[Valganciclovir]</td>\n",
       "      <td>[DB01610]</td>\n",
       "    </tr>\n",
       "  </tbody>\n",
       "</table>\n",
       "</div>"
      ],
      "text/plain": [
       "                  0          1\n",
       "0   [Emtricitabine]  [DB00879]\n",
       "1      [Zidovudine]  [DB00495]\n",
       "2       [Darunavir]  [DB01264]\n",
       "3      [Nevirapine]  [DB00238]\n",
       "4  [Valganciclovir]  [DB01610]"
      ]
     },
     "execution_count": 6,
     "metadata": {},
     "output_type": "execute_result"
    }
   ],
   "source": [
    "df = pd.DataFrame(list(zip(nombres, codigos)))\n",
    "df.head()"
   ]
  },
  {
   "cell_type": "code",
   "execution_count": 8,
   "metadata": {},
   "outputs": [],
   "source": [
    "df.to_csv(\"output/antivirales.csv\")"
   ]
  },
  {
   "cell_type": "code",
   "execution_count": 10,
   "metadata": {},
   "outputs": [],
   "source": [
    "df.columns = [\"nombre\", \"código\"]"
   ]
  },
  {
   "cell_type": "code",
   "execution_count": 12,
   "metadata": {},
   "outputs": [],
   "source": [
    "df['SMILES']=df.apply(lambda x: getSmilesByName(x.nombre), axis=1)"
   ]
  },
  {
   "cell_type": "code",
   "execution_count": 13,
   "metadata": {},
   "outputs": [
    {
     "data": {
      "text/html": [
       "<div>\n",
       "<style scoped>\n",
       "    .dataframe tbody tr th:only-of-type {\n",
       "        vertical-align: middle;\n",
       "    }\n",
       "\n",
       "    .dataframe tbody tr th {\n",
       "        vertical-align: top;\n",
       "    }\n",
       "\n",
       "    .dataframe thead th {\n",
       "        text-align: right;\n",
       "    }\n",
       "</style>\n",
       "<table border=\"1\" class=\"dataframe\">\n",
       "  <thead>\n",
       "    <tr style=\"text-align: right;\">\n",
       "      <th></th>\n",
       "      <th>nombre</th>\n",
       "      <th>código</th>\n",
       "      <th>SMILES</th>\n",
       "    </tr>\n",
       "  </thead>\n",
       "  <tbody>\n",
       "    <tr>\n",
       "      <th>0</th>\n",
       "      <td>[Emtricitabine]</td>\n",
       "      <td>[DB00879]</td>\n",
       "      <td>C1C(OC(S1)CO)N2C=C(C(=NC2=O)N)F</td>\n",
       "    </tr>\n",
       "    <tr>\n",
       "      <th>1</th>\n",
       "      <td>[Zidovudine]</td>\n",
       "      <td>[DB00495]</td>\n",
       "      <td>CC1=CN(C(=O)NC1=O)C2CC(C(O2)CO)N=[N+]=[N-]</td>\n",
       "    </tr>\n",
       "    <tr>\n",
       "      <th>2</th>\n",
       "      <td>[Darunavir]</td>\n",
       "      <td>[DB01264]</td>\n",
       "      <td>CC(C)CN(CC(C(CC1=CC=CC=C1)NC(=O)OC2COC3C2CCO3)...</td>\n",
       "    </tr>\n",
       "    <tr>\n",
       "      <th>3</th>\n",
       "      <td>[Nevirapine]</td>\n",
       "      <td>[DB00238]</td>\n",
       "      <td>CC1=C2C(=NC=C1)N(C3=C(C=CC=N3)C(=O)N2)C4CC4</td>\n",
       "    </tr>\n",
       "    <tr>\n",
       "      <th>4</th>\n",
       "      <td>[Valganciclovir]</td>\n",
       "      <td>[DB01610]</td>\n",
       "      <td>CC(C)C(C(=O)OCC(CO)OCN1C=NC2=C1N=C(NC2=O)N)N</td>\n",
       "    </tr>\n",
       "  </tbody>\n",
       "</table>\n",
       "</div>"
      ],
      "text/plain": [
       "             nombre     código  \\\n",
       "0   [Emtricitabine]  [DB00879]   \n",
       "1      [Zidovudine]  [DB00495]   \n",
       "2       [Darunavir]  [DB01264]   \n",
       "3      [Nevirapine]  [DB00238]   \n",
       "4  [Valganciclovir]  [DB01610]   \n",
       "\n",
       "                                              SMILES  \n",
       "0                    C1C(OC(S1)CO)N2C=C(C(=NC2=O)N)F  \n",
       "1         CC1=CN(C(=O)NC1=O)C2CC(C(O2)CO)N=[N+]=[N-]  \n",
       "2  CC(C)CN(CC(C(CC1=CC=CC=C1)NC(=O)OC2COC3C2CCO3)...  \n",
       "3        CC1=C2C(=NC=C1)N(C3=C(C=CC=N3)C(=O)N2)C4CC4  \n",
       "4       CC(C)C(C(=O)OCC(CO)OCN1C=NC2=C1N=C(NC2=O)N)N  "
      ]
     },
     "execution_count": 13,
     "metadata": {},
     "output_type": "execute_result"
    }
   ],
   "source": [
    "df.head()"
   ]
  },
  {
   "cell_type": "code",
   "execution_count": 14,
   "metadata": {},
   "outputs": [],
   "source": [
    "df.to_csv(\"output/antiviralesconsmiles.csv\")"
   ]
  }
 ],
 "metadata": {
  "kernelspec": {
   "display_name": "Python 3",
   "language": "python",
   "name": "python3"
  },
  "language_info": {
   "codemirror_mode": {
    "name": "ipython",
    "version": 3
   },
   "file_extension": ".py",
   "mimetype": "text/x-python",
   "name": "python",
   "nbconvert_exporter": "python",
   "pygments_lexer": "ipython3",
   "version": "3.7.6"
  }
 },
 "nbformat": 4,
 "nbformat_minor": 2
}
